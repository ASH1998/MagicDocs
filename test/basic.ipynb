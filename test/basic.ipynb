{
 "cells": [
  {
   "cell_type": "code",
   "execution_count": 6,
   "id": "dcbd63b8-18bb-4a4e-81ed-3237da371a95",
   "metadata": {
    "execution": {
     "iopub.execute_input": "2023-11-08T11:33:26.686953Z",
     "iopub.status.busy": "2023-11-08T11:33:26.685914Z",
     "iopub.status.idle": "2023-11-08T11:33:26.732555Z",
     "shell.execute_reply": "2023-11-08T11:33:26.731913Z",
     "shell.execute_reply.started": "2023-11-08T11:33:26.686918Z"
    }
   },
   "outputs": [],
   "source": [
    "import pandas as pd\n",
    "import sys, os, glob\n",
    "# from tqdm import tqdm, tqdm_notebook\n",
    "import tqdm\n",
    "\n",
    "import requests"
   ]
  },
  {
   "cell_type": "code",
   "execution_count": 7,
   "id": "64f1b045-bb7b-4c0b-8399-0ee9f02928bb",
   "metadata": {
    "execution": {
     "iopub.execute_input": "2023-11-08T11:33:37.483229Z",
     "iopub.status.busy": "2023-11-08T11:33:37.482542Z",
     "iopub.status.idle": "2023-11-08T11:33:37.488398Z",
     "shell.execute_reply": "2023-11-08T11:33:37.487601Z",
     "shell.execute_reply.started": "2023-11-08T11:33:37.483196Z"
    }
   },
   "outputs": [],
   "source": [
    "def get_completion(prompt, n_predict=1000):\n",
    "    url = 'http://localhost:3030/completion'\n",
    "    headers = {'Content-Type': 'application/json'}\n",
    "    data = {\n",
    "        'prompt': prompt,\n",
    "        'n_predict': n_predict\n",
    "    }\n",
    "    response = requests.post(url, headers=headers, json=data)\n",
    "\n",
    "    if response.status_code == 200:\n",
    "        return response.json()\n",
    "    else:\n",
    "        return None  # You can handle error cases as needed"
   ]
  },
  {
   "cell_type": "code",
   "execution_count": 33,
   "id": "8288d3c3-eb9d-4860-a729-e2a50cd196e0",
   "metadata": {
    "execution": {
     "iopub.execute_input": "2023-11-08T11:43:41.402727Z",
     "iopub.status.busy": "2023-11-08T11:43:41.402136Z",
     "iopub.status.idle": "2023-11-08T11:43:41.410356Z",
     "shell.execute_reply": "2023-11-08T11:43:41.409607Z",
     "shell.execute_reply.started": "2023-11-08T11:43:41.402698Z"
    }
   },
   "outputs": [
    {
     "name": "stdout",
     "output_type": "stream",
     "text": [
      "dict_keys(['THE-BOT/runserver.py', 'THE-BOT/test/flsk-login/connect.py', 'THE-BOT/test/flsk-login/app.py', 'THE-BOT/test/aiml_test/bot.py', 'THE-BOT/app/__init__.py', 'THE-BOT/app/views.py', 'THE-BOT/app/modules/__init__.py', 'THE-BOT/app/modules/weather/__init__.py', 'THE-BOT/app/modules/weather/ywthr.py', 'THE-BOT/app/modules/weather/get_weather_method.py', 'THE-BOT/app/modules/map_distance/__init__.py', 'THE-BOT/app/modules/map_distance/lat_lon.py', 'THE-BOT/app/modules/map_distance/dist.py', 'THE-BOT/app/modules/viki/__init__.py', 'THE-BOT/app/modules/viki/en_wiki.py', 'THE-BOT/app/modules/viki/.ipynb_checkpoints/en_wiki-checkpoint.py'])\n"
     ]
    }
   ],
   "source": [
    "import os\n",
    "\n",
    "def list_files_with_contents(base_path, file_type):\n",
    "    file_dict = {}\n",
    "    \n",
    "    for root, _, files in os.walk(base_path):\n",
    "        for file in files:\n",
    "            if file.endswith(file_type):\n",
    "                file_path = os.path.join(root, file)\n",
    "                with open(file_path, 'r') as f:\n",
    "                    file_contents = f.read()\n",
    "                file_dict[os.path.join(root, file)] = file_contents\n",
    "    \n",
    "    return file_dict\n",
    "\n",
    "# Example usage:\n",
    "base_path = \"THE-BOT\"\n",
    "file_type = \".py\"\n",
    "result = list_files_with_contents(base_path, file_type)\n",
    "print(result.keys())"
   ]
  },
  {
   "cell_type": "code",
   "execution_count": 48,
   "id": "88065cb7-77cc-4045-b2fa-177b9c035c23",
   "metadata": {
    "execution": {
     "iopub.execute_input": "2023-11-08T11:51:35.258420Z",
     "iopub.status.busy": "2023-11-08T11:51:35.257579Z",
     "iopub.status.idle": "2023-11-08T11:51:35.264254Z",
     "shell.execute_reply": "2023-11-08T11:51:35.263575Z",
     "shell.execute_reply.started": "2023-11-08T11:51:35.258390Z"
    }
   },
   "outputs": [],
   "source": [
    "def make_prompt(code):\n",
    "    a = f\"\"\"###USER : Describe the below code line by line, describing each method and variable and what they do. Also describe the logic, breakdown of the code line by line in bullet points\n",
    "Code : \n",
    "```\n",
    "{code}\n",
    "```\n",
    "\n",
    "### PyDocs: \n",
    "\"\"\"\n",
    "    return a\n",
    "\n",
    "def write_content_to_md_file(filename, content):\n",
    "    directory = os.path.dirname(filename)\n",
    "    \n",
    "    if not os.path.exists(directory):\n",
    "        os.makedirs(directory)\n",
    "\n",
    "    with open(filename, 'w') as md_file:\n",
    "        md_file.write(content)"
   ]
  },
  {
   "cell_type": "code",
   "execution_count": 55,
   "id": "c0fc919b-f361-4c31-a8ff-7d0af006a620",
   "metadata": {
    "execution": {
     "iopub.execute_input": "2023-11-08T12:01:29.895864Z",
     "iopub.status.busy": "2023-11-08T12:01:29.895147Z",
     "iopub.status.idle": "2023-11-08T12:09:34.618105Z",
     "shell.execute_reply": "2023-11-08T12:09:34.617320Z",
     "shell.execute_reply.started": "2023-11-08T12:01:29.895833Z"
    }
   },
   "outputs": [
    {
     "data": {
      "application/vnd.jupyter.widget-view+json": {
       "model_id": "7c188104e43c4948b95398ea1d1e3416",
       "version_major": 2,
       "version_minor": 0
      },
      "text/plain": [
       "  0%|          | 0/16 [00:00<?, ?it/s]"
      ]
     },
     "metadata": {},
     "output_type": "display_data"
    }
   ],
   "source": [
    "docs = {}\n",
    "for files in tqdm.notebook.tqdm(result.keys()):\n",
    "    try:\n",
    "        prompt = make_prompt(result[files])\n",
    "        docs = get_completion(prompt, n_predict=1000)\n",
    "        file_name = f\"docs/{files}\"\n",
    "        file_name = file_name.split(\".\")[0] + \".md\"\n",
    "        write_content_to_md_file(file_name, docs['content'])\n",
    "    except:\n",
    "        print(f\"failed for file : {files}\")\n",
    "        continue"
   ]
  },
  {
   "cell_type": "code",
   "execution_count": null,
   "id": "96eb0166-a099-407d-ac87-f5e4bad33b45",
   "metadata": {},
   "outputs": [],
   "source": []
  },
  {
   "cell_type": "code",
   "execution_count": null,
   "id": "bc818a42-63fe-4d64-a330-bd94ede1820f",
   "metadata": {},
   "outputs": [],
   "source": []
  },
  {
   "cell_type": "code",
   "execution_count": null,
   "id": "32112873-b2ba-445b-8d37-0ed5f683ba8b",
   "metadata": {},
   "outputs": [],
   "source": []
  },
  {
   "cell_type": "code",
   "execution_count": null,
   "id": "cf4ae52a-edc6-455b-beb0-c946517db646",
   "metadata": {},
   "outputs": [],
   "source": []
  },
  {
   "cell_type": "code",
   "execution_count": null,
   "id": "9ca13818-3f08-4237-a12d-dc8b519d28e5",
   "metadata": {},
   "outputs": [],
   "source": []
  },
  {
   "cell_type": "code",
   "execution_count": null,
   "id": "2d77ec10-6366-4e33-8bd6-8f875f6ac610",
   "metadata": {},
   "outputs": [],
   "source": []
  },
  {
   "cell_type": "code",
   "execution_count": null,
   "id": "87839724-a7ab-4292-88cb-e662b3f5dd1b",
   "metadata": {},
   "outputs": [],
   "source": []
  },
  {
   "cell_type": "code",
   "execution_count": null,
   "id": "fcb33468-2062-4958-ae68-8401f29299af",
   "metadata": {},
   "outputs": [],
   "source": []
  },
  {
   "cell_type": "code",
   "execution_count": null,
   "id": "68a552b4-a226-4970-a720-9ae5f64e7578",
   "metadata": {},
   "outputs": [],
   "source": []
  },
  {
   "cell_type": "code",
   "execution_count": null,
   "id": "2e699cc6-15df-4cc2-a8ce-7e74e3cc46a4",
   "metadata": {},
   "outputs": [],
   "source": []
  },
  {
   "cell_type": "code",
   "execution_count": null,
   "id": "a9727009-5472-4a70-a1bc-49e78aa92dd1",
   "metadata": {},
   "outputs": [],
   "source": []
  },
  {
   "cell_type": "code",
   "execution_count": null,
   "id": "5c1fab8c-0473-42bf-b3b2-164bd5b102f4",
   "metadata": {},
   "outputs": [],
   "source": []
  },
  {
   "cell_type": "code",
   "execution_count": null,
   "id": "278298ae-5e89-433c-886d-ac5e97d860ac",
   "metadata": {},
   "outputs": [],
   "source": []
  },
  {
   "cell_type": "code",
   "execution_count": null,
   "id": "508a12a1-39b3-48ce-af66-2c4cca9dcdc8",
   "metadata": {},
   "outputs": [],
   "source": []
  },
  {
   "cell_type": "code",
   "execution_count": null,
   "id": "359e7afe-c1c6-4e8f-b37b-754234025d02",
   "metadata": {},
   "outputs": [],
   "source": []
  },
  {
   "cell_type": "code",
   "execution_count": null,
   "id": "0e0c7c3d-d213-4fb5-92c5-b4076dc08aab",
   "metadata": {},
   "outputs": [],
   "source": []
  }
 ],
 "metadata": {
  "kernelspec": {
   "display_name": "textgen",
   "language": "python",
   "name": "textgen"
  },
  "language_info": {
   "codemirror_mode": {
    "name": "ipython",
    "version": 3
   },
   "file_extension": ".py",
   "mimetype": "text/x-python",
   "name": "python",
   "nbconvert_exporter": "python",
   "pygments_lexer": "ipython3",
   "version": "3.10.9"
  }
 },
 "nbformat": 4,
 "nbformat_minor": 5
}
